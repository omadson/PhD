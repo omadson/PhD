{
 "cells": [
  {
   "cell_type": "code",
   "execution_count": 150,
   "metadata": {},
   "outputs": [],
   "source": [
    "# packages\n",
    "import math"
   ]
  },
  {
   "cell_type": "code",
   "execution_count": 219,
   "metadata": {},
   "outputs": [],
   "source": [
    "# Matrix class\n",
    "class Matriz(object):\n",
    "    def __init__(self,linhas = list()):\n",
    "        self.linhas = linhas\n",
    "        if type(linhas) == list:\n",
    "            if len(set([len(i) for i in linhas])) > 1:\n",
    "                print(\"Erro: matriz não criada, tamanho das linhas é inconsistente\")\n",
    "            else:\n",
    "                if len(linhas) == 0:\n",
    "                    self.shape = (0,0)\n",
    "                else:\n",
    "                    self.shape = (len(linhas),len(linhas[0]))\n",
    "        else:\n",
    "            print(\"Erro: a estrutura de dados deve conter uma lista de listas (Ex.: [[1,2],[3,4]])\")\n",
    "    \n",
    "    def __str__(self):\n",
    "        s = '\\n'\n",
    "        for linha in self.linhas:\n",
    "            ss = ''\n",
    "            for coluna in linha:\n",
    "                ss = ss + ' %7.2f ' % coluna\n",
    "            s =  s + '|' + ss + '|\\n'\n",
    "        return s\n",
    "    \n",
    "    def __getitem__(self, item):\n",
    "        i,j = item\n",
    "        if type(j) is slice or type(i) is slice:\n",
    "            subset = self.linhas[i]\n",
    "            if type(subset[0]) is not list:\n",
    "                subset = [subset]\n",
    "            yisslice = type(j) is slice\n",
    "            for cj in range(len(subset)):\n",
    "                subset[cj] = subset[cj][j]\n",
    "                if not yisslice:\n",
    "                    subset[cj] = [subset[cj]]\n",
    "            return Matriz(subset)\n",
    "        else:\n",
    "            return self.linhas[i][j]\n",
    "    \n",
    "    def __setitem__(self, item, value):\n",
    "        i, j = item\n",
    "        if type(i) is slice or type(j) is slice:\n",
    "            for n in [i,j]:\n",
    "                n_ = n\n",
    "                n = slice(n, n+1) if type(n) != slice else n\n",
    "                n = slice(0, -1) if type(n) == None else n\n",
    "                n = slice(0, n.stop) if n.start == None else n\n",
    "                n = slice(n.start, self.shape[0 if n_ == i else 1]) if n.stop == None else n\n",
    "                i = n if n_ == i else i\n",
    "                j = n if n_ == j else j\n",
    "            \n",
    "            if type(value) == float or type(value) == int:\n",
    "                value = Matriz([[value]*self.shape[1]]*self.shape[0])\n",
    "\n",
    "            for linha in range(i.start, i.stop) if self.shape[0] != 1 else 0:\n",
    "                for coluna in range(j.start, j.stop) if self.shape[1] != 1 else 0:\n",
    "                    self[linha,coluna] = value[linha,coluna]\n",
    "        else:\n",
    "            self.linhas[i][j] = value        "
   ]
  },
  {
   "cell_type": "code",
   "execution_count": 217,
   "metadata": {},
   "outputs": [
    {
     "name": "stdout",
     "output_type": "stream",
     "text": [
      "\n",
      "|    1.00    -1.00     3.00 |\n",
      "|    4.00    -1.00     6.00 |\n",
      "|    7.00    -1.00     9.00 |\n",
      "\n"
     ]
    }
   ],
   "source": [
    "a = Matriz([[1,2,3],[4,5,6],[7,8,9]])\n",
    "b = Matriz([[8,9,10]])\n",
    "a[:,1] = -1\n",
    "print(a)"
   ]
  },
  {
   "cell_type": "code",
   "execution_count": null,
   "metadata": {},
   "outputs": [],
   "source": []
  },
  {
   "cell_type": "code",
   "execution_count": null,
   "metadata": {},
   "outputs": [],
   "source": []
  }
 ],
 "metadata": {
  "kernelspec": {
   "display_name": "Python 3",
   "language": "python",
   "name": "python3"
  },
  "language_info": {
   "codemirror_mode": {
    "name": "ipython",
    "version": 3
   },
   "file_extension": ".py",
   "mimetype": "text/x-python",
   "name": "python",
   "nbconvert_exporter": "python",
   "pygments_lexer": "ipython3",
   "version": "3.5.2"
  }
 },
 "nbformat": 4,
 "nbformat_minor": 2
}
