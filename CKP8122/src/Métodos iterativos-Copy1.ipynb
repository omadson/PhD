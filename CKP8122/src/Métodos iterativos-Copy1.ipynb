{
 "cells": [
  {
   "cell_type": "markdown",
   "metadata": {},
   "source": [
    "# Relatório da disciplina de Algebra Linear Computacional (CKP8122)\n",
    " - Aluno: Madson Luiz Dantas Dias\n",
    " - Professor: Creto Augusto Vidal\n",
    "\n",
    "## Lista de implementações\n",
    "### básico\n",
    " 1. Classe Matriz\n",
    " 2. Multiplicação de vetor-matriz e matriz-vetor\n",
    "\n",
    "### métodos diretos\n",
    " 3. eliminação de Gauss\n",
    " 4. decomposição LU\n",
    " 5. decomposição de Cholesky\n",
    "  \n",
    "### métodos iterativos\n",
    " 6. Jacobi\n",
    " 7. Gauss-Seidel\n",
    " 8. successive over-relaxation\n",
    " 9. gradientes conjugados\n",
    "\n",
    "### métodos de mínimos quadrados\n",
    " 10. Gram-Schmidt\n",
    " 11. decomposição QR usando householder\n",
    " 12. decomposição QR usando Jacobi\n",
    "\n",
    "### autovalores e autovetores de matrizes\n",
    " 13. método da potência (regular, inverso e com deslocamento)\n",
    " 14. método das transformações de similaridade (Householder + QR)\n",
    " \n",
    "### final\n",
    " 15. singular value decomposition"
   ]
  },
  {
   "cell_type": "code",
   "execution_count": 1,
   "metadata": {},
   "outputs": [],
   "source": [
    "from Matrix import *"
   ]
  },
  {
   "cell_type": "markdown",
   "metadata": {},
   "source": [
    "## Básico\n",
    "### Classe Matriz\n",
    "### Multiplicação  de vetor-matriz e matriz-vetor\n",
    "\n",
    "#### Definição\n",
    "Dada duas matrizes $\\mathbf{A}\\in\\mathcal{R}^{m\\times n}$ e $\\mathbf{B}\\in\\mathcal{R}^{n\\times p}$, a multiplicação de $\\mathbf{A}$ por $\\mathbf{B}$ é representada por outra matriz $\\mathbf{C} = \\mathbf{A}\\mathbf{B} \\in \\mathcal{R}^{m \\times p}$, em que cada elemento é dado pela seguinte equação\n",
    "\n",
    "\\begin{equation}\n",
    "    c_{ij} = \\sum_{k=1}^{n} a_{ik}b_{kj}, ~~ i = 1,2,\\dots,m ~~ e ~~ j=1,2,\\dots,p\n",
    "\\end{equation}\n",
    "\n",
    "\n",
    "#### Código python\n",
    "```Python\n",
    "def __mul__(self, value):\n",
    "    result = copy.deepcopy(self)\n",
    "    if type(value) in [int, float]:\n",
    "        for i in range(self.shape[0]):\n",
    "            for j in range(self.shape[1]):\n",
    "                result[i,j] = result[i,j] * value\n",
    "    elif type(value) == Matrix and self.shape[1] != value.shape[0]:\n",
    "        print(\"Error: Matrices with Incompatible Dimensions.\")\n",
    "        result = None\n",
    "    else:\n",
    "        result = zeros((self.shape[0], value.shape[1]))\n",
    "        if self.shape[0] == 1 and value.shape[1] == 1:\n",
    "            result = 0\n",
    "            for i in range(self.shape[1]): result = result + self[0,i] * value[i,0]\n",
    "        else:\n",
    "            result = zeros((self.shape[0], value.shape[1]))\n",
    "            for i in range(self.shape[0]):\n",
    "                for j in range(value.shape[1]):\n",
    "                    result[i,j] = self[i,:] * value[:,j]\n",
    "    return result\n",
    "```"
   ]
  },
  {
   "cell_type": "code",
   "execution_count": 30,
   "metadata": {},
   "outputs": [
    {
     "name": "stdout",
     "output_type": "stream",
     "text": [
      "\n",
      "|    1.00     2.00     3.00 |\n",
      "|    4.00     5.00     6.00 |\n",
      "|    7.00     8.00     9.00 |\n",
      "\n",
      "*\n",
      "\n",
      "|   10.00     6.00     9.00 |\n",
      "|   -1.00     7.00     9.00 |\n",
      "|    4.00     6.00     1.00 |\n",
      "\n",
      "=\n",
      "\n",
      "|   20.00    38.00    30.00 |\n",
      "|   59.00    95.00    87.00 |\n",
      "|   98.00   152.00   144.00 |\n",
      "\n"
     ]
    }
   ],
   "source": [
    "A = Matrix([[1,2,3],[4,5,6],[7,8,9]])\n",
    "B = Matrix([[10,6,9],[-1,7,9],[4,6,1]])\n",
    "print(A)\n",
    "print('*')\n",
    "print(B)\n",
    "print('=')\n",
    "print(A*B)"
   ]
  },
  {
   "cell_type": "markdown",
   "metadata": {},
   "source": [
    "## Métodos diretos\n",
    "### Eliminação de Gauss\n",
    "\n",
    "#### Definição\n",
    "Consideremos o sistema $\\mathbf{A}\\boldsymbol{x}=\\boldsymbol{b}$ em que $\\mathbf{A}$ é uma matriz quadrada $n \\times n$.\n",
    "\n",
    "O objetivo do método de eliminação de Gauss é eliminar os elementos $a_{ij}$ de forma a obter um sistema equivalente com uma matriz triangular superior. Depois bastará usar substituições sucessivas para chegarmos à solução pretendida. Este método pode ser sumarizado nas seguintes etapas:\n",
    "\n",
    " 1. obtenção da matriz aumentada $[\\mathbf{A} | \\boldsymbol{b}]$ do sistema\n",
    " 2. transformação da matriz aumentada $[\\mathbf{A} | \\boldsymbol{b}]$ em $[\\bar{\\mathbf{A}} | \\bar{\\boldsymbol{b}}]$, onde $\\bar{\\mathbf{A}}$ é uma matriz triangular superior.\n",
    " 3. resolver o sistema linear $[\\bar{\\mathbf{A}} | \\bar{\\boldsymbol{b}}]$ usando retro substituição\n",
    " \n",
    "\n",
    "O processo de transformação na matriz aumentada é baseado no pivoteamento da matriz de coeficientes $\\mathbf{A}$. Primeiro, defini-se um pivô $a_{ii}$ e aplica-se as seguintes operações:\n",
    "\\begin{equation}\n",
    "    \\begin{split}\n",
    "        &1.\\quad L_{i} = \\frac{L_{i:}}{a_{ii}},\\\\\n",
    "        &2.\\quad L_{k} = L_{k} + \\alpha L_{i},\\quad\\forall k = i+1,\\dots,n,\\:\\:\\alpha = -\\frac{a_{ki}}{a_{ii}}\\\\\n",
    "    \\end{split}\n",
    "\\end{equation}\n",
    "em que $L_{i}$ é a $i$-ésima linha da matriz composta por $[\\mathbf{A}|\\boldsymbol{b}]$. Este processo é realizado para todas as linhas de $[\\mathbf{A}|\\boldsymbol{b}]$.\n",
    "\n",
    "Depois de terminado o processo de redução a diante, o processo de retro-substituição é realizado da seguinte forma:\n",
    "\\begin{equation}\n",
    "    x_i = b_i - \\sum_{j=n}^{i+1} a_{ij}x_j,\\quad\\forall i=\\dots,n.\n",
    "\\end{equation}\n",
    "\n",
    "O algoritmo em python para o processo de eliminação de Gauss segue abaixo.\n",
    " \n",
    "#### Código Python\n",
    "##### Eliminação de Gauss\n",
    "```Python\n",
    "def gauss_elimination(self, b):\n",
    "    Ab_ = self.concat(b)\n",
    "    N, M = Ab_.shape\n",
    "    # phase 1: convert A to a superior triangular matrix\n",
    "    for n in range(N):\n",
    "        pivot = Ab_[n,n]\n",
    "        for i in range(n+1,N):\n",
    "            f = Ab_[i,n] / pivot\n",
    "            Ab_[i,:] = Ab_[i,:] - (Ab_[n,:] * f)\n",
    "    # phase 2: solve the system using back substituition\n",
    "    return Ab_.back_substituition()\n",
    "\n",
    "```\n",
    "##### Retro substituição\n",
    "```Python\n",
    "def back_substituition(self):\n",
    "    N, M = self.shape\n",
    "    # vector of soluctions\n",
    "    x = zeros((1,N))\n",
    "\n",
    "    # auxiliary matrices\n",
    "    A = self[:,:-1]\n",
    "    b = self[:,-1]\n",
    "\n",
    "    if sum([A[i,i] == 0 for i in range(N)]) == 0:\n",
    "        x[0,N-1] = b[N-1,0] / A[N-1,N-1]\n",
    "        for j in range(N-2,-1,-1):\n",
    "            x[0,j] = (b[j,0] - A[j,j+1:].dot(x[0,j+1:]).sum(axis=1).to_number() ) / A[j,j]\n",
    "        return x\n",
    "    else:\n",
    "        print(\"the system not can solved by back substituition.\")\n",
    "        return False\n",
    "```"
   ]
  },
  {
   "cell_type": "code",
   "execution_count": 9,
   "metadata": {},
   "outputs": [
    {
     "name": "stdout",
     "output_type": "stream",
     "text": [
      "x = \n",
      "\n",
      "|    1.00    -1.00    -0.00 |\n",
      "\n"
     ]
    }
   ],
   "source": [
    "A = Matrix([[ 1,-1, 2],\n",
    "            [ 2, 1,-1],\n",
    "            [-2,-5, 3]])\n",
    "b = Matrix([[ 2],\n",
    "            [ 1],\n",
    "            [ 3]])\n",
    "\n",
    "x = A.gauss_elimination(b)\n",
    "\n",
    "print(\"x = \")\n",
    "print(x)"
   ]
  },
  {
   "cell_type": "markdown",
   "metadata": {},
   "source": [
    "### Decomposição LU\n",
    "#### Definição\n",
    "O objetivo da decomposição LU é decompor uma determinada matriz de coeficientes $\\mathbf{A}\\in\\mathcal{R}^{n\\times n}$ como o produto $\\mathbf{L}\\mathbf{U}$ de uma matriz $\\mathbf{L}\\in\\mathcal{R}^{n\\times n}$ triangular inferior e uma matriz $\\mathbf{U}\\in\\mathcal{R}^{n\\times n}$ triangular superior, tal que\n",
    "\n",
    "\\begin{eqnarray}\n",
    "\\mathbf{A}\\boldsymbol{x} &=& \\boldsymbol{b} \\\\\n",
    "(\\mathbf{L}\\mathbf{U})\\boldsymbol{x} &=& \\boldsymbol{b} \\\\\n",
    "\\mathbf{L}(\\mathbf{U}\\boldsymbol{x}) &=&\\boldsymbol{b} \\\\\n",
    "\\mathbf{L} \\boldsymbol{y} = \\boldsymbol{b} \\quad & \\text{ e }& \\quad \\mathbf{U}\\boldsymbol{x}=\\boldsymbol{y}\n",
    "\\end{eqnarray}\n",
    "\n",
    "Teoricamente, a fatoração LU é equivalente ao método da eliminação de Gauss. Na prática, na fatoração LU guardamos os multiplicadores usados para transformar $\\mathbf{A}$ numa matriz triangular superior $\\mathbf{U}$.\n",
    "\n",
    "#### Código Python\n",
    "```Python\n",
    "def lu_decomposition(self):\n",
    "    N = self.shape[0]\n",
    "    L = eye(N)\n",
    "    U = copy.deepcopy(self)\n",
    "    for n in range(N):\n",
    "        L[n+1:,n] = U[n+1:,n] * (1/U[n,n])\n",
    "        for l  in range(n+1,N):\n",
    "            U[l,:] = U[l,:] - (U[n,:] * L[l,n])\n",
    "    return L, U\n",
    "```"
   ]
  },
  {
   "cell_type": "code",
   "execution_count": 8,
   "metadata": {},
   "outputs": [
    {
     "name": "stdout",
     "output_type": "stream",
     "text": [
      "L = \n",
      "\n",
      "|    1.00     0.00     0.00 |\n",
      "|    2.00     1.00     0.00 |\n",
      "|   -2.00    -2.33     1.00 |\n",
      "\n",
      "U = \n",
      "\n",
      "|    1.00    -1.00     2.00 |\n",
      "|    0.00     3.00    -5.00 |\n",
      "|    0.00    -0.00    -4.67 |\n",
      "\n",
      "L*U = \n",
      "\n",
      "|    1.00    -1.00     2.00 |\n",
      "|    2.00     1.00    -1.00 |\n",
      "|   -2.00    -5.00     3.00 |\n",
      "\n"
     ]
    }
   ],
   "source": [
    "L, U = A.lu_decomposition()\n",
    "\n",
    "print(\"L = \")\n",
    "print(L)\n",
    "print(\"U = \")\n",
    "print(U)\n",
    "print(\"L*U = \")\n",
    "print(L * U)"
   ]
  },
  {
   "cell_type": "markdown",
   "metadata": {},
   "source": [
    "### Decomposição de Cholesky\n",
    "\n",
    "#### Definição\n",
    "\n",
    "O objetivo da decomposição de Cholesky é decompor uma determinada matriz definida positiva de coeficientes $\\mathbf{A}\\in\\mathcal{R}^{n\\times n}$ como o produto $\\mathbf{L}\\mathbf{L}^T$ de uma matriz $\\mathbf{L}\\in\\mathcal{R}^{n\\times n}$  triangular inferior com elementos da diagonal principal estritamente positivos, tal que\n",
    "\n",
    "\\begin{eqnarray}\n",
    "l_{kk} &=& \\sqrt{a_{kk} - \\sum_{i=1}^{k-1} l_{ki}^2 }, \\\\\n",
    "l_{kj} &=& \\frac{a_{jk} - \\sum_{i=1}^{k-1} l_{ji} l_{ki}}{l_{kk}}, ~~ j=k+1,k+2\\dots, n\n",
    "\\end{eqnarray}\n",
    "\n",
    "#### Código Python\n",
    "```Python\n",
    "def chol_decomposition(self):\n",
    "    N = self.shape[0]\n",
    "    L = zeros(N)\n",
    "    for i in range(N):\n",
    "        L[i,i] = pow(- (L[i,:] * L[i,:].transpose()) + self[i,i], 1/2)\n",
    "        for j in range(i+1,N):\n",
    "            L[j,i] = (- (L[i,:] * L[j,:].transpose()) + self[j,i]) / L[i,i]\n",
    "    return L\n",
    "```"
   ]
  },
  {
   "cell_type": "code",
   "execution_count": 11,
   "metadata": {},
   "outputs": [
    {
     "name": "stdout",
     "output_type": "stream",
     "text": [
      "L = \n",
      "\n",
      "|    2.00     0.00     0.00 |\n",
      "|    1.00     3.00     0.00 |\n",
      "|   -2.00     2.00     1.00 |\n",
      "\n",
      "L*L^T = \n",
      "\n",
      "|    4.00     2.00    -4.00 |\n",
      "|    2.00    10.00     4.00 |\n",
      "|   -4.00     4.00     9.00 |\n",
      "\n"
     ]
    }
   ],
   "source": [
    "A = Matrix([[ 4, 2,-4],\n",
    "            [ 2,10, 4],\n",
    "            [-4, 4, 9]])\n",
    "\n",
    "L = A.chol_decomposition()\n",
    "\n",
    "print(\"L = \")\n",
    "print(L)\n",
    "print(\"L*L^T = \")\n",
    "print(L * L.transpose())"
   ]
  }
 ],
 "metadata": {
  "kernelspec": {
   "display_name": "Python 3",
   "language": "python",
   "name": "python3"
  },
  "language_info": {
   "codemirror_mode": {
    "name": "ipython",
    "version": 3
   },
   "file_extension": ".py",
   "mimetype": "text/x-python",
   "name": "python",
   "nbconvert_exporter": "python",
   "pygments_lexer": "ipython3",
   "version": "3.5.2"
  }
 },
 "nbformat": 4,
 "nbformat_minor": 2
}
