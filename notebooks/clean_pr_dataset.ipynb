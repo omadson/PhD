{
 "cells": [
  {
   "cell_type": "code",
   "execution_count": 1,
   "metadata": {},
   "outputs": [],
   "source": [
    "import pandas as pd\n",
    "import numpy as np\n",
    "from datetime import datetime"
   ]
  },
  {
   "cell_type": "code",
   "execution_count": 2,
   "metadata": {},
   "outputs": [],
   "source": [
    "def get_holidays(years):\n",
    "    holidays = list()\n",
    "    for year in years:\n",
    "        holidays_wrong = pd.read_json('https://api.calendario.com.br/?json=true&ano=%s&ibge=2304400&token=bWFkc29uZGRpYXNAZ21haWwuY29tJmhhc2g9MTIzNDc0NTU0' % year).date.astype('str').values\n",
    "        holidays.extend(['%s-%s-%s' % (x.split('-')[0], x.split('-')[2], x.split('-')[1]) for x in holidays_wrong])\n",
    "    return holidays"
   ]
  },
  {
   "cell_type": "code",
   "execution_count": 59,
   "metadata": {},
   "outputs": [],
   "source": [
    "path_name = '../data/climate/'\n",
    "file_names_pr = ['24279', '24319', '24320', '24321']\n",
    "file_names_t  = ['225', '572']\n",
    "\n",
    "df_final = pd.DataFrame()\n",
    "\n",
    "for file_name in file_names_pr:\n",
    "    df_ = pd.read_csv(path_name+'pr/'+file_name+'.csv')\n",
    "    df_final[file_name] = df_['pr']\n",
    "\n",
    "for file_name in file_names_t:\n",
    "    df_final['avg_tmp_'+file_name] = pd.read_csv(path_name+'t2m/'+file_name+'.csv')['avg_tmp']\n",
    "    df_final['max_tmp_'+file_name] = pd.read_csv(path_name+'t2mmax/'+file_name+'.csv')['max_tmp']\n",
    "    df_final['min_tmp_'+file_name] = pd.read_csv(path_name+'t2mmin/'+file_name+'.csv')['min_tmp']\n",
    "    \n",
    "df_['year']  = df_['year'].astype('object')\n",
    "df_['month'] = df_['month'].astype('object')\n",
    "df_['day']   = df_['day'].astype('object')\n",
    "\n",
    "df_['dia'] = df_.apply(lambda x: '%s-%s-%s' % (x['year'], str(x['month']).zfill(2), str(x['day']).zfill(2)), axis=1)\n",
    "\n",
    "df_final = df_final.assign(weekday=df_.apply(lambda x: datetime.strptime('%s-%s-%s' % (x['year'],x['month'],x['day']),'%Y-%m-%d').weekday(), axis=1),\n",
    "                           dia=df_['dia'])\n",
    "\n",
    "holidays_list = get_holidays(['2014','2015','2016', '2017'])\n",
    "df_final = df_final.assign(holiday=df_.apply(lambda x: 1 if '%s-%s-%s' % (str(x['year']), str(x['month']).zfill(2),str(x['day']).zfill(2)) in holidays_list else 0, axis=1))\n",
    "df_final = df_final.assign(workingday=df_final.apply(lambda x: 1 if x['holiday']==1 or x['weekday'] in [5,6] else 0, axis=1))\n",
    "df_final = df_final.assign(avg_pr=df_final[file_names_pr].mean(axis=1))\n",
    "df_final = df_final.assign(max_pr=df_final[file_names_pr].max(axis=1))\n",
    "df_final = df_final.assign(min_pr=df_final[file_names_pr].min(axis=1))\n",
    "df_final = df_final.assign(avg_tmp=df_final[['avg_tmp_225','avg_tmp_572']].mean(axis=1))\n",
    "df_final = df_final.assign(min_tmp=df_final[['min_tmp_225','min_tmp_572']].mean(axis=1))\n",
    "df_final = df_final.assign(max_tmp=df_final[['max_tmp_225','max_tmp_572']].mean(axis=1))\n",
    "df_final = df_final.drop(['avg_tmp_225','avg_tmp_572','min_tmp_225','min_tmp_572','max_tmp_225','max_tmp_572'], axis=1)\n",
    "df_final = df_final.drop(file_names_pr, axis=1)\n",
    "df_final = df_final.fillna(df_final.mean())\n",
    "\n",
    "df_final = df_final.set_index('dia')\n",
    "df_final = df_final.iloc[349:]\n",
    "\n",
    "df_viagens = pd.read_csv('../data/bicicletar/graph_datasets/rides_per_sex.csv', index_col='dia')"
   ]
  },
  {
   "cell_type": "code",
   "execution_count": 60,
   "metadata": {},
   "outputs": [
    {
     "name": "stderr",
     "output_type": "stream",
     "text": [
      "/home/omadson/.local/lib/python3.5/site-packages/ipykernel_launcher.py:1: FutureWarning: Sorting because non-concatenation axis is not aligned. A future version\n",
      "of pandas will change to not sort by default.\n",
      "\n",
      "To accept the future behavior, pass 'sort=False'.\n",
      "\n",
      "To retain the current behavior and silence the warning, pass 'sort=True'.\n",
      "\n",
      "  \"\"\"Entry point for launching an IPython kernel.\n"
     ]
    }
   ],
   "source": [
    "aa = pd.concat([df_final, df_viagens], axis=1)\n",
    "aa = aa.fillna(0)"
   ]
  },
  {
   "cell_type": "code",
   "execution_count": 96,
   "metadata": {},
   "outputs": [
    {
     "name": "stderr",
     "output_type": "stream",
     "text": [
      "/home/omadson/.local/lib/python3.5/site-packages/scipy/stats/stats.py:1713: FutureWarning: Using a non-tuple sequence for multidimensional indexing is deprecated; use `arr[tuple(seq)]` instead of `arr[seq]`. In the future this will be interpreted as an array index, `arr[np.array(seq)]`, which will result either in an error or a different result.\n",
      "  return np.add.reduce(sorted[indexer] * weights, axis=axis) / sumval\n"
     ]
    },
    {
     "data": {
      "text/plain": [
       "<matplotlib.axes._subplots.AxesSubplot at 0x7fd3b023b6d8>"
      ]
     },
     "execution_count": 96,
     "metadata": {},
     "output_type": "execute_result"
    },
    {
     "data": {
      "image/png": "[encoded data removed]",
      "text/plain": [
       "<Figure size 432x288 with 1 Axes>"
      ]
     },
     "metadata": {},
     "output_type": "display_data"
    }
   ],
   "source": [
    "%matplotlib inline\n",
    "import seaborn as sns\n",
    "\n",
    "sns.barplot(x='weekday', y='F_0', data=aa)"
   ]
  },
  {
   "cell_type": "code",
   "execution_count": 114,
   "metadata": {},
   "outputs": [
    {
     "data": {
      "text/plain": [
       "<matplotlib.axes._subplots.AxesSubplot at 0x7fd3aeda6c18>"
      ]
     },
     "execution_count": 114,
     "metadata": {},
     "output_type": "execute_result"
    },
    {
     "data": {
      "image/png": "[encoded data removed]",
      "text/plain": [
       "<Figure size 1080x360 with 1 Axes>"
      ]
     },
     "metadata": {},
     "output_type": "display_data"
    }
   ],
   "source": [
    "aa[aa['holiday'] == 1][['M_0','F_0','O_0']].mean().plot.bar(figsize=(15,5))"
   ]
  },
  {
   "cell_type": "code",
   "execution_count": 115,
   "metadata": {},
   "outputs": [
    {
     "data": {
      "text/plain": [
       "<matplotlib.axes._subplots.AxesSubplot at 0x7fd3adbf0320>"
      ]
     },
     "execution_count": 115,
     "metadata": {},
     "output_type": "execute_result"
    },
    {
     "data": {
      "image/png": "[encoded data removed]",
      "text/plain": [
       "<Figure size 1080x360 with 1 Axes>"
      ]
     },
     "metadata": {},
     "output_type": "display_data"
    }
   ],
   "source": [
    "aa[aa['holiday'] == 0][['M_0','F_0','O_0']].mean().plot.bar(figsize=(15,5))"
   ]
  },
  {
   "cell_type": "code",
   "execution_count": null,
   "metadata": {},
   "outputs": [],
   "source": []
  }
 ],
 "metadata": {
  "kernelspec": {
   "display_name": "Python 3",
   "language": "python",
   "name": "python3"
  },
  "language_info": {
   "codemirror_mode": {
    "name": "ipython",
    "version": 3
   },
   "file_extension": ".py",
   "mimetype": "text/x-python",
   "name": "python",
   "nbconvert_exporter": "python",
   "pygments_lexer": "ipython3",
   "version": "3.5.2"
  }
 },
 "nbformat": 4,
 "nbformat_minor": 2
}
